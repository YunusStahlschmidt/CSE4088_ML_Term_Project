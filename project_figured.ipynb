{
  "cells": [
    {
      "cell_type": "markdown",
      "metadata": {
        "id": "view-in-github",
        "colab_type": "text"
      },
      "source": [
        "<a href=\"https://colab.research.google.com/github/muhammed-oztel/CSE4088_ML_Term_Project/blob/main/project_figured.ipynb\" target=\"_parent\"><img src=\"https://colab.research.google.com/assets/colab-badge.svg\" alt=\"Open In Colab\"/></a>"
      ]
    },
    {
      "cell_type": "code",
      "execution_count": 44,
      "metadata": {
        "id": "8ni_xMRmguo2"
      },
      "outputs": [],
      "source": [
        "import numpy as np\n",
        "from sklearn.datasets import load_breast_cancer\n",
        "from sklearn.model_selection import train_test_split\n",
        "from sklearn.metrics import confusion_matrix\n",
        "from sklearn.metrics import ConfusionMatrixDisplay\n",
        "from sklearn.svm import SVC\n",
        "from sklearn.tree import DecisionTreeClassifier\n",
        "from sklearn.linear_model import Perceptron, LogisticRegression\n",
        "from sklearn.preprocessing import StandardScaler\n",
        "from sklearn.metrics import roc_curve\n",
        "from sklearn.metrics import RocCurveDisplay\n",
        "from sklearn.model_selection import cross_val_score\n",
        "from sklearn.metrics import roc_auc_score\n",
        "import seaborn as sns\n",
        "import pandas as pd\n"
      ]
    },
    {
      "cell_type": "code",
      "execution_count": 60,
      "metadata": {
        "id": "fLPrXzS2guo6"
      },
      "outputs": [],
      "source": [
        "data = load_breast_cancer()\n",
        "X, y = data.data, data.target\n",
        "sc = StandardScaler()\n",
        "data_std = sc.fit_transform(X)\n",
        "X_train, X_test, y_train, y_test = train_test_split(data_std, y, test_size = 0.3, random_state=0)\n",
        "\n",
        "\n",
        "scores = []\n"
      ]
    },
    {
      "cell_type": "code",
      "execution_count": 34,
      "metadata": {
        "id": "YChkTJPNguo6"
      },
      "outputs": [],
      "source": [
        "import warnings\n",
        "warnings.simplefilter('ignore')"
      ]
    },
    {
      "cell_type": "code",
      "execution_count": 10,
      "metadata": {
        "id": "uKDHGJTFguo8"
      },
      "outputs": [],
      "source": [
        "def display_cm(y_test, y_pred):\n",
        "    cm = confusion_matrix(y_test, y_pred)\n",
        "    cm_display = ConfusionMatrixDisplay(cm).plot()\n",
        "    return cm_display\n",
        "\n",
        "    "
      ]
    },
    {
      "cell_type": "code",
      "execution_count": 68,
      "metadata": {
        "id": "MhG90qDqguo9"
      },
      "outputs": [],
      "source": [
        "def display_cm(y_test, y_pred):\n",
        "    cm = confusion_matrix(y_test, y_pred)\n",
        "    cm_display = ConfusionMatrixDisplay(cm).plot()\n",
        "    return cm_display\n"
      ]
    },
    {
      "cell_type": "markdown",
      "metadata": {
        "id": "MdxrCrsfguo9"
      },
      "source": [
        "# Perceptron Learning Algorithm"
      ]
    },
    {
      "cell_type": "code",
      "execution_count": 61,
      "metadata": {
        "id": "bafZsfptguo-",
        "colab": {
          "base_uri": "https://localhost:8080/",
          "height": 285
        },
        "outputId": "aa6b9613-a906-4986-f0fe-e3402408f19d"
      },
      "outputs": [
        {
          "output_type": "display_data",
          "data": {
            "image/png": "[encoded data removed]",
            "text/plain": [
              "<Figure size 432x288 with 2 Axes>"
            ]
          },
          "metadata": {}
        }
      ],
      "source": [
        "perceptron_classifier = Perceptron()\n",
        "perceptron_score = round(np.mean(cross_val_score(perceptron_classifier, data_std, y=y, scoring='f1_micro', cv=10))*100,2)\n",
        "scores.append(perceptron_score)\n",
        "\n",
        "perceptron_classifier.fit(X_train, y_train)\n",
        "perceptron_classifier.score(X, y)\n",
        "y_pred = perceptron_classifier.predict(X_test)\n",
        "cm = display_cm(y_test, y_pred)\n"
      ]
    },
    {
      "cell_type": "markdown",
      "metadata": {
        "id": "eRUkT1qBgupA"
      },
      "source": [
        "# Logistic Regressieon\n",
        "\n",
        "\n",
        "linelinear_reg_score"
      ]
    },
    {
      "cell_type": "code",
      "execution_count": 62,
      "metadata": {
        "colab": {
          "base_uri": "https://localhost:8080/",
          "height": 285
        },
        "id": "FMaj19xdgupA",
        "outputId": "307be0d4-23d3-41e3-a731-5410f64eaa13"
      },
      "outputs": [
        {
          "output_type": "display_data",
          "data": {
            "image/png": "[encoded data removed]",
            "text/plain": [
              "<Figure size 432x288 with 2 Axes>"
            ]
          },
          "metadata": {}
        }
      ],
      "source": [
        "log_reg_classifier = LogisticRegression()\n",
        "log_reg_score = round(np.mean(cross_val_score(log_reg_classifier, data_std, y=y, scoring='f1_micro', cv=10))*100,2)\n",
        "scores.append(log_reg_score)\n",
        "log_reg_score\n",
        "\n",
        "log_reg_classifier.fit(X_train, y_train)\n",
        "log_reg_classifier.score(X, y)\n",
        "y_pred = log_reg_classifier.predict(X_test)\n",
        "cm = display_cm(y_test, y_pred)"
      ]
    },
    {
      "cell_type": "markdown",
      "metadata": {
        "id": "5kfNMMpXgupB"
      },
      "source": [
        "# SVM - Neural Network"
      ]
    },
    {
      "cell_type": "markdown",
      "metadata": {
        "id": "mq3_msXEgupB"
      },
      "source": [
        "<h3>Linear Kernel</h3k"
      ]
    },
    {
      "cell_type": "code",
      "execution_count": 63,
      "metadata": {
        "id": "wSOuryREgupB",
        "colab": {
          "base_uri": "https://localhost:8080/",
          "height": 285
        },
        "outputId": "95e94af9-769d-4efa-abca-b787aec6388b"
      },
      "outputs": [
        {
          "output_type": "display_data",
          "data": {
            "image/png": "[encoded data removed]",
            "text/plain": [
              "<Figure size 432x288 with 2 Axes>"
            ]
          },
          "metadata": {}
        }
      ],
      "source": [
        "rbf_svm_classifier = SVC(kernel = 'linear', random_state = 0)\n",
        "rbf_svm_score = round(np.mean(cross_val_score(rbf_svm_classifier, data_std, y=y, scoring='f1_micro', cv=10))*100,2)\n",
        "scores.append(rbf_svm_score)\n",
        "\n",
        "\n",
        "rbf_svm_classifier.fit(X_train, y_train)\n",
        "rbf_svm_classifier.score(X, y)\n",
        "y_pred = rbf_svm_classifier.predict(X_test)\n",
        "cm = display_cm(y_test, y_pred)"
      ]
    },
    {
      "cell_type": "markdown",
      "metadata": {
        "id": "iHODcO7ygupC"
      },
      "source": [
        "<h3>RBF Kernel</h3>\n",
        "\n"
      ]
    },
    {
      "cell_type": "code",
      "execution_count": 64,
      "metadata": {
        "id": "10Nv9E3wgupC",
        "colab": {
          "base_uri": "https://localhost:8080/",
          "height": 285
        },
        "outputId": "25a79cf3-79f3-4ca6-8e7e-c133933c529e"
      },
      "outputs": [
        {
          "output_type": "display_data",
          "data": {
            "image/png": "[encoded data removed]",
            "text/plain": [
              "<Figure size 432x288 with 2 Axes>"
            ]
          },
          "metadata": {}
        }
      ],
      "source": [
        "rbf_svm_classifier = SVC(kernel = 'rbf', random_state = 0)\n",
        "rbf_svm_score = round(np.mean(cross_val_score(rbf_svm_classifier, data_std, y=y, scoring='f1_micro', cv=10))*100,2)\n",
        "scores.append(rbf_svm_score)\n",
        "\n",
        "rbf_svm_classifier.fit(X_train, y_train)\n",
        "rbf_svm_classifier.score(X, y)\n",
        "y_pred = rbf_svm_classifier.predict(X_test)\n",
        "cm = display_cm(y_test, y_pred)"
      ]
    },
    {
      "cell_type": "markdown",
      "source": [
        "\n",
        "# Decision Tree Classification\n",
        "\n",
        "\n"
      ],
      "metadata": {
        "id": "It-qwGlJpPQs"
      }
    },
    {
      "cell_type": "code",
      "source": [
        "dt_classifier = DecisionTreeClassifier(criterion = 'entropy', random_state = 0)\n",
        "dt_score = round(np.mean(cross_val_score(dt_classifier, data_std, y=y, scoring='f1_micro', cv=10))*100,2)\n",
        "scores.append(dt_score)\n",
        "\n",
        "dt_classifier.fit(X_train, y_train)\n",
        "dt_classifier.score(X, y)\n",
        "y_pred = dt_classifier.predict(X_test)\n",
        "cm = display_cm(y_test, y_pred)\n",
        "\n",
        "# classifier.fit(X_train, Y_train)"
      ],
      "metadata": {
        "colab": {
          "base_uri": "https://localhost:8080/",
          "height": 289
        },
        "id": "SgMTnYAKpOnd",
        "outputId": "66ca6210-522e-43cc-8c66-7e8b2a4f49ac"
      },
      "execution_count": 65,
      "outputs": [
        {
          "output_type": "display_data",
          "data": {
            "image/png": "[encoded data removed]",
            "text/plain": [
              "<Figure size 432x288 with 2 Axes>"
            ]
          },
          "metadata": {}
        }
      ]
    },
    {
      "cell_type": "markdown",
      "source": [
        ""
      ],
      "metadata": {
        "id": "j7iiffN_pgN8"
      }
    },
    {
      "cell_type": "code",
      "execution_count": 66,
      "metadata": {
        "colab": {
          "base_uri": "https://localhost:8080/"
        },
        "id": "JkqcvV7zgupC",
        "outputId": "26876131-65ed-45c6-926b-86c03172ca43"
      },
      "outputs": [
        {
          "output_type": "execute_result",
          "data": {
            "text/plain": [
              "[96.12, 98.07, 97.54, 97.71, 93.85]"
            ]
          },
          "metadata": {},
          "execution_count": 66
        }
      ],
      "source": [
        "scores"
      ]
    },
    {
      "cell_type": "code",
      "execution_count": 67,
      "metadata": {
        "id": "tHWpP4vwgupC",
        "outputId": "7593f26b-7a80-4906-f3b0-33e6e747fbeb",
        "colab": {
          "base_uri": "https://localhost:8080/",
          "height": 285
        }
      },
      "outputs": [
        {
          "output_type": "display_data",
          "data": {
            "image/png": "[encoded data removed]",
            "text/plain": [
              "<Figure size 432x288 with 1 Axes>"
            ]
          },
          "metadata": {}
        }
      ],
      "source": [
        "models = [ \"PLA\", \"LogisticReg\", \"SVM Linear\", \"RBF\", \"Decision Tree\"]\n",
        "sns.set_theme(style=\"whitegrid\")\n",
        "df = pd.DataFrame({'models': models, 'scores': scores})\n",
        "ax = sns.barplot(x=\"models\", y=\"scores\", data=df)"
      ]
    },
    {
      "cell_type": "code",
      "execution_count": 59,
      "metadata": {
        "id": "jrc-9SfEgupD"
      },
      "outputs": [],
      "source": [
        "\n"
      ]
    }
  ],
  "metadata": {
    "interpreter": {
      "hash": "2be5faf79681da6f2a61fdfdd5405d65d042280f7fba6178067603e3a2925119"
    },
    "kernelspec": {
      "display_name": "Python 3.10.0 64-bit",
      "language": "python",
      "name": "python3"
    },
    "language_info": {
      "codemirror_mode": {
        "name": "ipython",
        "version": 3
      },
      "file_extension": ".py",
      "mimetype": "text/x-python",
      "name": "python",
      "nbconvert_exporter": "python",
      "pygments_lexer": "ipython3",
      "version": "3.9.1"
    },
    "orig_nbformat": 4,
    "colab": {
      "name": "project.ipynb adlı not defterinin kopyası",
      "provenance": [],
      "include_colab_link": true
    }
  },
  "nbformat": 4,
  "nbformat_minor": 0
}